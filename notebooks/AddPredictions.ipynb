{
 "cells": [
  {
   "cell_type": "markdown",
   "metadata": {},
   "source": [
    "# Add predictions from fine-tuned seBERT model to the whole dataset."
   ]
  },
  {
   "cell_type": "markdown",
   "metadata": {},
   "source": [
    "We distribute only all_changes_sebert.csv.gz within this replication kit which already contains the predictions from the model because it is already quite large.\n",
    "This notebook demonstrates the process however and the data can be re-classified with this."
   ]
  },
  {
   "cell_type": "code",
   "execution_count": null,
   "metadata": {},
   "outputs": [],
   "source": [
    "import torch\n",
    "import pandas as pd\n",
    "from transformers import BertTokenizer, BertForSequenceClassification"
   ]
  },
  {
   "cell_type": "code",
   "execution_count": null,
   "metadata": {},
   "outputs": [],
   "source": [
    "# load finetuned model\n",
    "# generate live, or use alread fine tuned version from https://smartshark2.informatik.uni-goettingen.de/sebert/seBERT_fine_tuned_commit_intent.tar.gz\n",
    "MODEL_PATH = '../ft/fine_tuned/'\n",
    "model = BertForSequenceClassification.from_pretrained(MODEL_PATH)\n",
    "tokenizer = BertTokenizer.from_pretrained(MODEL_PATH)"
   ]
  },
  {
   "cell_type": "code",
   "execution_count": null,
   "metadata": {},
   "outputs": [],
   "source": [
    "# load data (all changes)\n",
    "df = pd.read_csv('../data/all_changes.csv.gz')"
   ]
  },
  {
   "cell_type": "code",
   "execution_count": null,
   "metadata": {},
   "outputs": [],
   "source": [
    "# we remove newlines before tokenizing\n",
    "text = df['message'].str.replace('\\n', ' ').values"
   ]
  },
  {
   "cell_type": "code",
   "execution_count": null,
   "metadata": {},
   "outputs": [],
   "source": [
    "# calculate probabilites for the text being other, perfective or corrective\n",
    "# NOTE: this is not efficient! We are just doing this for simplicity in this way.\n",
    "\n",
    "y_probs = []\n",
    "model.eval()\n",
    "with torch.no_grad():\n",
    "    for _, X_row in enumerate(text):\n",
    "        inputs = tokenizer(X_row, padding=True, truncation=True, max_length=128, return_tensors=\"pt\").to('cuda')\n",
    "        outputs = model.to('cuda')(**inputs)\n",
    "        probs = outputs[0].softmax(1).cpu().detach().numpy()\n",
    "        y_probs.append(probs)"
   ]
  },
  {
   "cell_type": "code",
   "execution_count": null,
   "metadata": {},
   "outputs": [],
   "source": [
    "# convert probabilities to boolean values depending on the max probability\n",
    "y_pred = []\n",
    "for y_prob in y_probs:\n",
    "    y_pred.append(y_prob.argmax())\n"
   ]
  },
  {
   "cell_type": "code",
   "execution_count": null,
   "metadata": {},
   "outputs": [],
   "source": [
    "# insert the predicted values in all rows where we do not have a manual label\n",
    "for idx, row in df.iterrows():\n",
    "    if not row['is_manual']:\n",
    "        pred_lbl = y_pred[idx]\n",
    "\n",
    "        df.loc[idx, 'external_quality'] = False\n",
    "        df.loc[idx, 'internal_quality'] = False\n",
    "\n",
    "        if pred_lbl == 0:\n",
    "            continue\n",
    "        elif pred_lbl == 1:\n",
    "            df.loc[idx, 'internal_quality'] = True\n",
    "        elif pred_lbl == 2:\n",
    "            df.loc[idx, 'external_quality'] = True"
   ]
  },
  {
   "cell_type": "code",
   "execution_count": null,
   "metadata": {},
   "outputs": [],
   "source": [
    "# save data\n",
    "df.to_csv('../data/all_changes_sebert.csv.gz', index=False)"
   ]
  }
 ],
 "metadata": {
  "kernelspec": {
   "display_name": "Python 3",
   "language": "python",
   "name": "python3"
  },
  "language_info": {
   "codemirror_mode": {
    "name": "ipython",
    "version": 3
   },
   "file_extension": ".py",
   "mimetype": "text/x-python",
   "name": "python",
   "nbconvert_exporter": "python",
   "pygments_lexer": "ipython3",
   "version": "3.9.2"
  }
 },
 "nbformat": 4,
 "nbformat_minor": 4
}
