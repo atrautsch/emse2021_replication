{
 "cells": [
  {
   "cell_type": "code",
   "execution_count": null,
   "metadata": {},
   "outputs": [],
   "source": [
    "import pandas as pd\n",
    "import numpy as np\n",
    "import random\n",
    "\n",
    "from IPython.display import display, Markdown, clear_output\n",
    "from ipywidgets import Layout\n",
    "import ipywidgets as widgets"
   ]
  },
  {
   "cell_type": "code",
   "execution_count": null,
   "metadata": {},
   "outputs": [],
   "source": [
    "dfj = pd.read_csv('../data/mauczka_label_consensus.csv')"
   ]
  },
  {
   "cell_type": "code",
   "execution_count": null,
   "metadata": {},
   "outputs": [],
   "source": [
    "project = widgets.Text(\n",
    "       value='',\n",
    "       description='Project',\n",
    "        layout=Layout( width='auto'))\n",
    "revision = widgets.Text(\n",
    "       value='',\n",
    "       description='Revision hash',\n",
    "        layout=Layout( width='auto'))\n",
    "text = widgets.Textarea(\n",
    "       value='',\n",
    "       description='Commit message',\n",
    "        layout=Layout( width='auto', height='250px'))\n",
    "text2 = widgets.HTML(\n",
    "       value='',\n",
    "       description='Labels',\n",
    "       layout=Layout( width='auto'))\n",
    "label_internal_quality = widgets.Checkbox(\n",
    "       description='Perfective?',)\n",
    "label_external_quality = widgets.Checkbox(\n",
    "       description='Corrective?',)\n",
    "button = widgets.Button(description='Set label')\n",
    "\n",
    "progress = widgets.HTML(value='', description='Progress')\n",
    "link = widgets.HTML(value='', description='Revision')\n",
    "\n",
    "\n",
    "disagreements = len(dfj[(dfj['label_internal_quality1'] != dfj['label_internal_quality2']) | (dfj['label_external_quality1'] != dfj['label_external_quality2'])])\n",
    "\n",
    "def load_next():\n",
    "    \"\"\"Sample from unlabeled messages in the sample, change values on ui elements.\"\"\"\n",
    "\n",
    "    sample = dfj[(dfj['label_internal_quality1'] != dfj['label_internal_quality2']) | (dfj['label_external_quality1'] != dfj['label_external_quality2'])].sample(n=1)\n",
    "    disagreements_left = len(dfj[~dfj['label_internal_quality'].isna()])\n",
    "    \n",
    "    project.value = sample['project'].values[0]\n",
    "    revision.value = sample['revision_hash'].values[0]\n",
    "    text.value = sample['message'].values[0]\n",
    "    \n",
    "    # display randomly labels\n",
    "    label1 = 1\n",
    "    label2 = 2\n",
    "    rnd = random.randint(1, 2)\n",
    "    if rnd == 2:\n",
    "        label2 = 1\n",
    "        label1 = 2\n",
    "    text2.value = 'perfective: {}<br/>corrective: {}<br/>perfective: {}<br/>corrective: {}'.format(sample['label_internal_quality{}'.format(label1)].values[0],\n",
    "                                                                                                   sample['label_external_quality{}'.format(label1)].values[0],\n",
    "                                                                                                   sample['label_internal_quality{}'.format(label2)].values[0],\n",
    "                                                                                                   sample['label_external_quality{}'.format(label2)].values[0])\n",
    "\n",
    "    progress.value = '{}/{}'.format(disagreements_left, disagreements)\n",
    "    owner = 'apache'\n",
    "    repo = project.value\n",
    "    if project.value == 'tapiji':\n",
    "        owner = 'tapiji'\n",
    "    if project.value == 'mylyn-reviews':\n",
    "        owner = 'eclipse'\n",
    "        repo = 'mylyn.reviews'\n",
    "    link.value = '<a href=\"https://github.com/{}/{}/commit/{}\" target=\"_blank\">{}</a>'.format(owner, repo, revision.value, revision.value)\n",
    "\n",
    "    label_internal_quality.value = False\n",
    "    label_external_quality.value = False\n",
    "\n",
    "def set_label(button):\n",
    "    \"\"\"Set label after click and then load next.\"\"\"\n",
    "    dfj.loc[dfj['revision_hash'] == revision.value, 'label_internal_quality'] = label_internal_quality.value\n",
    "    dfj.loc[dfj['revision_hash'] == revision.value, 'label_external_quality'] = label_external_quality.value\n",
    "    dfj.loc[dfj['revision_hash'] == revision.value, 'has_label'] = True\n",
    "    load_next()\n",
    "\n",
    "load_next()  # init\n",
    "button.on_click(set_label)\n",
    "\n",
    "label_box = widgets.HBox([label_internal_quality, label_external_quality])\n",
    "box = widgets.VBox([progress, project, link, text, text2, label_box, button], layout={'display': 'flex', 'flex_flow': 'column', 'align_items': 'stretch'})\n",
    "\n",
    "# show it\n",
    "display(box)"
   ]
  },
  {
   "cell_type": "code",
   "execution_count": null,
   "metadata": {},
   "outputs": [],
   "source": [
    "dfj.to_csv('../data/mauczka_label_consensus.csv', index=False)"
   ]
  }
 ],
 "metadata": {
  "kernelspec": {
   "display_name": "Python 3",
   "language": "python",
   "name": "python3"
  },
  "language_info": {
   "codemirror_mode": {
    "name": "ipython",
    "version": 3
   },
   "file_extension": ".py",
   "mimetype": "text/x-python",
   "name": "python",
   "nbconvert_exporter": "python",
   "pygments_lexer": "ipython3",
   "version": "3.10.2"
  }
 },
 "nbformat": 4,
 "nbformat_minor": 4
}
