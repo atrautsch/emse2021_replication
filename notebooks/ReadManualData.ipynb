{
 "cells": [
  {
   "cell_type": "markdown",
   "metadata": {},
   "source": [
    "# Loads the raw export from the visualSHARK, calculates cohens kappa score and saves the manual classifications as CSV."
   ]
  },
  {
   "cell_type": "code",
   "execution_count": 1,
   "metadata": {},
   "outputs": [],
   "source": [
    "import pickle\n",
    "\n",
    "import pandas as pd\n",
    "from sklearn.metrics import cohen_kappa_score"
   ]
  },
  {
   "cell_type": "code",
   "execution_count": 3,
   "metadata": {},
   "outputs": [],
   "source": [
    "with open('../data/change_type_label_export2.pickle', 'rb') as f:\n",
    "    dat = pickle.load(f)"
   ]
  },
  {
   "cell_type": "code",
   "execution_count": 9,
   "metadata": {},
   "outputs": [],
   "source": [
    "data = []\n",
    "for l in dat:\n",
    "    user1_label = 'neither'\n",
    "    user2_label = 'neither'\n",
    "    if l['user1_is_perfective']:\n",
    "        user1_label = 'perfective'\n",
    "    elif l['user1_is_corrective']:\n",
    "        user1_label = 'corrective'\n",
    "    \n",
    "    if l['user2_is_perfective']:\n",
    "        user2_label = 'perfective'\n",
    "    elif l['user2_is_corrective']:\n",
    "        user2_label = 'corrective'\n",
    "    \n",
    "    consensus_label = 'neither'\n",
    "    if l['consensus_is_perfective']:\n",
    "        consensus_label = 'perfective'\n",
    "    elif l['consensus_is_corrective']:\n",
    "        consensus_label = 'corrective'\n",
    "\n",
    "    tmp = l\n",
    "    tmp['user1_label'] = user1_label\n",
    "    tmp['user2_label'] = user2_label\n",
    "    tmp['consensus_label'] = consensus_label\n",
    "    \n",
    "    data.append(tmp)\n"
   ]
  },
  {
   "cell_type": "code",
   "execution_count": 10,
   "metadata": {},
   "outputs": [],
   "source": [
    "df = pd.DataFrame(data)"
   ]
  },
  {
   "cell_type": "code",
   "execution_count": 12,
   "metadata": {},
   "outputs": [
    {
     "data": {
      "text/plain": [
       "0.6628708149863347"
      ]
     },
     "execution_count": 12,
     "metadata": {},
     "output_type": "execute_result"
    }
   ],
   "source": [
    "cohen_kappa_score(df['user1_label'], df['user2_label'], labels=['neither', 'corrective', 'perfective'])"
   ]
  },
  {
   "cell_type": "code",
   "execution_count": 20,
   "metadata": {},
   "outputs": [],
   "source": [
    "ml = df[['project_name', 'revision_hash', 'consensus_is_perfective', 'consensus_is_corrective']].copy()\n",
    "ml = ml.rename(columns={'project_name': 'project', 'consensus_is_perfective': 'internal_quality', 'consensus_is_corrective': 'external_quality'})\n",
    "\n",
    "ml.to_csv('../data/manual_labels.csv', index=False)"
   ]
  }
 ],
 "metadata": {
  "kernelspec": {
   "display_name": "Python 3",
   "language": "python",
   "name": "python3"
  },
  "language_info": {
   "codemirror_mode": {
    "name": "ipython",
    "version": 3
   },
   "file_extension": ".py",
   "mimetype": "text/x-python",
   "name": "python",
   "nbconvert_exporter": "python",
   "pygments_lexer": "ipython3",
   "version": "3.10.2"
  }
 },
 "nbformat": 4,
 "nbformat_minor": 4
}
