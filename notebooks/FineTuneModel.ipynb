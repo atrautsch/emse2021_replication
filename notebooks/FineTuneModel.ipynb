{
 "cells": [
  {
   "cell_type": "markdown",
   "metadata": {},
   "source": [
    "# Shows how to fine-tune the pre-trained seBERT model for commit intent classification"
   ]
  },
  {
   "cell_type": "markdown",
   "metadata": {},
   "source": [
    "This is just for demonstration purposes, we distributed the fine-tuning on our SLURM HPC system.\n",
    "We distribute the HPC code under the /ft/ folder in this replication kit.\n",
    "However, this notebook shows the principle and should be sufficient if you have a small amount of data and executions."
   ]
  },
  {
   "cell_type": "code",
   "execution_count": null,
   "metadata": {},
   "outputs": [],
   "source": [
    "import gc\n",
    "import random\n",
    "import torch\n",
    "import numpy as np\n",
    "import pandas as pd\n",
    "\n",
    "from sklearn.metrics import accuracy_score, recall_score, precision_score, f1_score, matthews_corrcoef\n",
    "from sklearn.model_selection import train_test_split, cross_validate, KFold\n",
    "from sklearn.pipeline import Pipeline\n",
    "from sklearn.base import BaseEstimator, ClassifierMixin\n",
    "from sklearn.metrics import make_scorer\n",
    "from sklearn.preprocessing import MultiLabelBinarizer\n",
    "\n",
    "from transformers import BertTokenizer, BertForSequenceClassification\n",
    "from transformers import TrainingArguments, Trainer"
   ]
  },
  {
   "cell_type": "code",
   "execution_count": null,
   "metadata": {},
   "outputs": [],
   "source": [
    "def compute_metrics_multi_label(p):\n",
    "    pred, labels = p\n",
    "    pred = np.argmax(pred, axis=1)\n",
    "\n",
    "    accuracy = accuracy_score(y_true=labels, y_pred=pred)\n",
    "    mcc = matthews_corrcoef(y_true=labels, y_pred=pred)\n",
    "\n",
    "    precision_micro = precision_score(y_true=labels, y_pred=pred, average='micro')\n",
    "    recall_micro = recall_score(y_true=labels, y_pred=pred, average='micro')\n",
    "    f1_micro = f1_score(y_true=labels, y_pred=pred, average='micro')\n",
    "\n",
    "    precision_macro = precision_score(y_true=labels, y_pred=pred, average='macro')\n",
    "    recall_macro = recall_score(y_true=labels, y_pred=pred, average='macro')\n",
    "    f1_macro = f1_score(y_true=labels, y_pred=pred, average='macro')\n",
    "\n",
    "    return {'accuracy': accuracy, 'mcc': mcc, 'precision_micro': precision_micro, 'recall_micro': recall_micro, 'f1_micro': f1_micro, 'precision_macro': precision_macro, 'recall_macro': recall_macro, 'f1_macro': f1_macro}\n",
    "\n",
    "\n",
    "class Dataset(torch.utils.data.Dataset):\n",
    "    def __init__(self, encodings, labels):\n",
    "        self.encodings = encodings\n",
    "        self.labels = labels\n",
    "\n",
    "    def __getitem__(self, idx):\n",
    "        item = {key: torch.tensor(val[idx]) for key, val in self.encodings.items()}\n",
    "        item['labels'] = torch.tensor(self.labels[idx], dtype=torch.long)\n",
    "        return item\n",
    "\n",
    "    def __len__(self):\n",
    "        return len(self.encodings['input_ids'])"
   ]
  },
  {
   "cell_type": "code",
   "execution_count": null,
   "metadata": {},
   "outputs": [],
   "source": [
    "# load pre-trained model and tokenizer\n",
    "# needs the pre-trained model extracted in that folder https://smartshark2.informatik.uni-goettingen.de/sebert/seBERT_pre_trained.tar.gz\n",
    "model = BertForSequenceClassification.from_pretrained('../ft/models/seBERT/', num_labels=3)\n",
    "tokenizer = BertTokenizer.from_pretrained('../ft/models/seBERT/')"
   ]
  },
  {
   "cell_type": "code",
   "execution_count": null,
   "metadata": {},
   "outputs": [],
   "source": [
    "# load data, ground truth only\n",
    "df = pd.read_csv('../data/all_changes_gt.csv.gz')\n",
    "\n",
    "def unify_label_num(row):\n",
    "    label = 0\n",
    "    if row['internal_quality']:\n",
    "        label = 1\n",
    "    if row['external_quality']:\n",
    "        label = 2\n",
    "    return label\n",
    "\n",
    "df['message_no_newlines'] = df['message'].str.replace('\\n', ' ')\n",
    "df['label'] = df.apply(unify_label_num, axis=1)"
   ]
  },
  {
   "cell_type": "code",
   "execution_count": null,
   "metadata": {},
   "outputs": [],
   "source": [
    "X = df['message_no_newlines'].values\n",
    "y = df['label'].values\n",
    "\n",
    "\n",
    "# this simulates one fold for 10-fold cross-validation, for evaluation of fine tuning this would be a KFold split\n",
    "# IMPORTANT: the model needs to start from scratch for multiple evaluation runs!\n",
    "# If you run this in a loop for evaluation the model and tokenizer load code needs to be in the loop\n",
    "X_train, X_test, y_train, y_test = train_test_split(X, y, test_size=0.1)\n",
    "\n",
    "# this is used as evaluation data to select the best performing epoch\n",
    "X_train, X_val, y_train, y_val = train_test_split(X_train, y_train, test_size=0.2)\n",
    "\n",
    "X_train_tokens = tokenizer(X_train.tolist(), padding=True, truncation=True, max_length=128)\n",
    "X_test_tokens = tokenizer(X_test.tolist(), padding=True, truncation=True, max_length=128)\n",
    "X_val_tokens = tokenizer(X_val.tolist(), padding=True, truncation=True, max_length=128)\n",
    "\n",
    "train_dataset = Dataset(X_train_tokens, y_train)\n",
    "test_dataset = Dataset(X_test_tokens, y_test)\n",
    "eval_dataset = Dataset(X_val_tokens, y_val)\n",
    "\n",
    "\n",
    "training_args = TrainingArguments(\n",
    "    output_dir                  = \"../ft/checkpoints\",\n",
    "    num_train_epochs            = 3,\n",
    "    per_device_train_batch_size = 4,\n",
    "    per_device_eval_batch_size  = 4,\n",
    "    gradient_accumulation_steps = 2,\n",
    "    eval_accumulation_steps     = 5,\n",
    "    evaluation_strategy         = \"epoch\",\n",
    "    load_best_model_at_end      = True\n",
    ")\n",
    "\n",
    "trainer = Trainer(\n",
    "    model           = model,\n",
    "    args            = training_args,\n",
    "    train_dataset   = train_dataset,\n",
    "    eval_dataset    = eval_dataset,\n",
    "    compute_metrics = compute_metrics_multi_label\n",
    ")"
   ]
  },
  {
   "cell_type": "code",
   "execution_count": null,
   "metadata": {},
   "outputs": [],
   "source": [
    "print(trainer.train())\n",
    "print(trainer.evaluate())"
   ]
  },
  {
   "cell_type": "code",
   "execution_count": null,
   "metadata": {},
   "outputs": [],
   "source": [
    "# To generate a fine-tuned model the model is simply fed all available ground truth data and saved"
   ]
  }
 ],
 "metadata": {
  "kernelspec": {
   "display_name": "Python 3",
   "language": "python",
   "name": "python3"
  },
  "language_info": {
   "codemirror_mode": {
    "name": "ipython",
    "version": 3
   },
   "file_extension": ".py",
   "mimetype": "text/x-python",
   "name": "python",
   "nbconvert_exporter": "python",
   "pygments_lexer": "ipython3",
   "version": "3.9.2"
  }
 },
 "nbformat": 4,
 "nbformat_minor": 4
}
